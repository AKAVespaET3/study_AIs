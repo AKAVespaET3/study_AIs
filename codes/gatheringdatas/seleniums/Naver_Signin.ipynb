{
 "cells": [
  {
   "cell_type": "markdown",
   "id": "ce028234-88f3-44c5-84b5-bbe62a9ac261",
   "metadata": {},
   "source": [
    "## Naver Signin\n",
    "- https://www.selenium.dev/selenium/docs/api/py/webdriver_remote/selenium.webdriver.remote.webelement.html"
   ]
  },
  {
   "cell_type": "code",
   "execution_count": 1,
   "id": "8fadfe0a-76c1-4aaf-a353-0c0c1540c2fb",
   "metadata": {
    "tags": []
   },
   "outputs": [],
   "source": [
    "from selenium import webdriver\n",
    "browser = webdriver.Chrome(executable_path='../../../../chromedriver.exe')\n",
    "# url in address window\n",
    "browser.get('https://naver.com/')"
   ]
  },
  {
   "cell_type": "markdown",
   "id": "e655a701-982b-4d31-ad03-2b99b42da30e",
   "metadata": {},
   "source": [
    "### Login 화면 링크 tag\n",
    "- 접힘 메뉴 : body > div.logged-out.env-production.page-responsive.header-overlay.home-campaign > div.position-relative.js-header-wrapper > header > div > div.d-flex.flex-justify-between.flex-items-center.width-full.width-lg-auto > div.flex-1.flex-order-2.text-right > button > span > span\n",
    "- click tag : div > div > div > a.HeaderMenu-link.HeaderMenu-link--sign-in\n",
    "- form_textfield = driver.find_element(By.NAME, 'username')\n",
    "- form_textfield.send_keys(\"admin\")"
   ]
  },
  {
   "cell_type": "code",
   "execution_count": 2,
   "id": "0bcbc913-e29e-47d1-a7ad-c557d9c9adf7",
   "metadata": {
    "tags": []
   },
   "outputs": [],
   "source": [
    "element_path = '#account > div > a'\n",
    "collaspsed_menu = browser.find_element_by_css_selector(element_path)\n",
    "collaspsed_menu.click()"
   ]
  },
  {
   "cell_type": "markdown",
   "id": "ebb583c8-abdd-4f61-97ac-aa14b90da1b9",
   "metadata": {
    "tags": []
   },
   "source": [
    "### Login 화면\n",
    "- user id input tag : #login_field\n",
    "- password input tag : #password\n",
    "- click tag : input.btn.btn-primary.btn-block.js-sign-in-button"
   ]
  },
  {
   "cell_type": "code",
   "execution_count": 3,
   "id": "59ab9ff0-2496-45ad-bb85-bccb11314436",
   "metadata": {},
   "outputs": [],
   "source": [
    "element_path = '#id'\n",
    "login_field = browser.find_element_by_css_selector(element_path)\n",
    "login_field.send_keys('huny****')"
   ]
  },
  {
   "cell_type": "code",
   "execution_count": 4,
   "id": "d4a69575-b075-4e34-b2fb-4b63c2a13c63",
   "metadata": {
    "tags": []
   },
   "outputs": [],
   "source": [
    "element_path = '#pw'\n",
    "password_field = browser.find_element_by_css_selector(element_path)\n",
    "password_field.send_keys('****')"
   ]
  },
  {
   "cell_type": "code",
   "execution_count": 5,
   "id": "b2aa04e7-e983-4aeb-b6c6-4c24424995b6",
   "metadata": {
    "tags": []
   },
   "outputs": [],
   "source": [
    "element_path = '#log\\.login'\n",
    "sign_button = browser.find_element_by_css_selector(element_path)\n",
    "sign_button.click()"
   ]
  },
  {
   "cell_type": "code",
   "execution_count": null,
   "id": "e3e0c9d8-802a-434c-9da1-f9201ee62531",
   "metadata": {},
   "outputs": [],
   "source": []
  },
  {
   "cell_type": "code",
   "execution_count": null,
   "id": "09952449-c73c-425e-8b7e-eee7414649b0",
   "metadata": {},
   "outputs": [],
   "source": []
  }
 ],
 "metadata": {
  "kernelspec": {
   "display_name": "Python 3 (ipykernel)",
   "language": "python",
   "name": "python3"
  },
  "language_info": {
   "codemirror_mode": {
    "name": "ipython",
    "version": 3
   },
   "file_extension": ".py",
   "mimetype": "text/x-python",
   "name": "python",
   "nbconvert_exporter": "python",
   "pygments_lexer": "ipython3",
   "version": "3.11.3"
  }
 },
 "nbformat": 4,
 "nbformat_minor": 5
}
