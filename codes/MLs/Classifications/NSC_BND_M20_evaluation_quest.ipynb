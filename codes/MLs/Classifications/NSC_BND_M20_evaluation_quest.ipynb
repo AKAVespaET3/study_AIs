{
 "cells": [
  {
   "cell_type": "markdown",
   "id": "a23e3d3c-6e3b-4d99-8710-fcde852ec24e",
   "metadata": {},
   "source": [
    "### QUEST\n",
    "- NSC_BND_M20 대상(from mongo)\n",
    "- 목표변수 : 범주형, 설명변수 : 5개 선택\n",
    "- train_test_split() 이용\n",
    "- classification_report() 사용(각각 train, test set) 평가 의견 첨부\n",
    "- option : NSC_BND_M20_preprocss.ipynb 이용가능"
   ]
  },
  {
   "cell_type": "code",
   "execution_count": 35,
   "id": "97ea3444-5974-4019-ab23-f763a9f97a17",
   "metadata": {
    "tags": []
   },
   "outputs": [],
   "source": [
    "import pandas as pd"
   ]
  },
  {
   "cell_type": "code",
   "execution_count": 36,
   "id": "40e096d3-edca-4146-bd7d-b05dccf16795",
   "metadata": {
    "tags": []
   },
   "outputs": [
    {
     "name": "stderr",
     "output_type": "stream",
     "text": [
      "C:\\Users\\01-10\\AppData\\Local\\Temp\\ipykernel_216\\1558453973.py:1: DtypeWarning: Columns (3,5,6) have mixed types. Specify dtype option on import or set low_memory=False.\n",
      "  df_JCNBM = pd.read_csv('../../../datasets/NSC_BND_M20.csv')\n"
     ]
    },
    {
     "data": {
      "text/html": [
       "<div>\n",
       "<style scoped>\n",
       "    .dataframe tbody tr th:only-of-type {\n",
       "        vertical-align: middle;\n",
       "    }\n",
       "\n",
       "    .dataframe tbody tr th {\n",
       "        vertical-align: top;\n",
       "    }\n",
       "\n",
       "    .dataframe thead th {\n",
       "        text-align: right;\n",
       "    }\n",
       "</style>\n",
       "<table border=\"1\" class=\"dataframe\">\n",
       "  <thead>\n",
       "    <tr style=\"text-align: right;\">\n",
       "      <th></th>\n",
       "      <th>Unnamed: 0</th>\n",
       "      <th>_id</th>\n",
       "      <th>RN_INDI</th>\n",
       "      <th>BTH_YYYY</th>\n",
       "      <th>DTH_YYYYMM</th>\n",
       "      <th>COD1</th>\n",
       "      <th>COD2</th>\n",
       "      <th>RN_KEY</th>\n",
       "      <th>RN_INST</th>\n",
       "      <th>MDCARE_STRT_DT</th>\n",
       "      <th>...</th>\n",
       "      <th>OPRTN_YN</th>\n",
       "      <th>MDCARE_DD_CNT</th>\n",
       "      <th>VSHSP_DD_CNT</th>\n",
       "      <th>TOT_PRSC_DD_CNT</th>\n",
       "      <th>MCARE_RSLT_TYPE</th>\n",
       "      <th>EDC_ADD_RT</th>\n",
       "      <th>ED_RC_TOT_AMT</th>\n",
       "      <th>EDC_SBA</th>\n",
       "      <th>EDC_INSUR_BRDN_AMT</th>\n",
       "      <th>STD_YYYY</th>\n",
       "    </tr>\n",
       "  </thead>\n",
       "  <tbody>\n",
       "    <tr>\n",
       "      <th>0</th>\n",
       "      <td>0</td>\n",
       "      <td>64e6d1c0b5e01adfd8979e02</td>\n",
       "      <td>294364</td>\n",
       "      <td>1921LE</td>\n",
       "      <td>200707.0</td>\n",
       "      <td>T08-T14</td>\n",
       "      <td>W00-W19</td>\n",
       "      <td>2002080298703</td>\n",
       "      <td>26452</td>\n",
       "      <td>20020830</td>\n",
       "      <td>...</td>\n",
       "      <td>0</td>\n",
       "      <td>1</td>\n",
       "      <td>1</td>\n",
       "      <td>3</td>\n",
       "      <td>5.0</td>\n",
       "      <td>0.15</td>\n",
       "      <td>10590</td>\n",
       "      <td>3000</td>\n",
       "      <td>7590</td>\n",
       "      <td>2002</td>\n",
       "    </tr>\n",
       "    <tr>\n",
       "      <th>1</th>\n",
       "      <td>1</td>\n",
       "      <td>64e6d1c0b5e01adfd8979e03</td>\n",
       "      <td>294364</td>\n",
       "      <td>1921LE</td>\n",
       "      <td>200707.0</td>\n",
       "      <td>T08-T14</td>\n",
       "      <td>W00-W19</td>\n",
       "      <td>2002090466395</td>\n",
       "      <td>63715</td>\n",
       "      <td>20020910</td>\n",
       "      <td>...</td>\n",
       "      <td>0</td>\n",
       "      <td>1</td>\n",
       "      <td>1</td>\n",
       "      <td>2</td>\n",
       "      <td>5.0</td>\n",
       "      <td>0.15</td>\n",
       "      <td>16520</td>\n",
       "      <td>4950</td>\n",
       "      <td>11570</td>\n",
       "      <td>2002</td>\n",
       "    </tr>\n",
       "  </tbody>\n",
       "</table>\n",
       "<p>2 rows × 24 columns</p>\n",
       "</div>"
      ],
      "text/plain": [
       "   Unnamed: 0                       _id  RN_INDI BTH_YYYY  DTH_YYYYMM  \\\n",
       "0           0  64e6d1c0b5e01adfd8979e02   294364   1921LE    200707.0   \n",
       "1           1  64e6d1c0b5e01adfd8979e03   294364   1921LE    200707.0   \n",
       "\n",
       "      COD1     COD2         RN_KEY  RN_INST  MDCARE_STRT_DT  ...  OPRTN_YN  \\\n",
       "0  T08-T14  W00-W19  2002080298703    26452        20020830  ...         0   \n",
       "1  T08-T14  W00-W19  2002090466395    63715        20020910  ...         0   \n",
       "\n",
       "   MDCARE_DD_CNT VSHSP_DD_CNT TOT_PRSC_DD_CNT  MCARE_RSLT_TYPE  EDC_ADD_RT  \\\n",
       "0              1            1               3              5.0        0.15   \n",
       "1              1            1               2              5.0        0.15   \n",
       "\n",
       "   ED_RC_TOT_AMT  EDC_SBA  EDC_INSUR_BRDN_AMT  STD_YYYY  \n",
       "0          10590     3000                7590      2002  \n",
       "1          16520     4950               11570      2002  \n",
       "\n",
       "[2 rows x 24 columns]"
      ]
     },
     "execution_count": 36,
     "metadata": {},
     "output_type": "execute_result"
    }
   ],
   "source": [
    "df_JCNBM = pd.read_csv('../../../datasets/NSC_BND_M20.csv')\n",
    "df_JCNBM[:2]"
   ]
  },
  {
   "cell_type": "code",
   "execution_count": 37,
   "id": "dac1529d-eb4a-44aa-b695-a1f9fa76a892",
   "metadata": {
    "tags": []
   },
   "outputs": [
    {
     "name": "stdout",
     "output_type": "stream",
     "text": [
      "<class 'pandas.core.frame.DataFrame'>\n",
      "RangeIndex: 137163 entries, 0 to 137162\n",
      "Data columns (total 24 columns):\n",
      " #   Column              Non-Null Count   Dtype  \n",
      "---  ------              --------------   -----  \n",
      " 0   Unnamed: 0          137163 non-null  int64  \n",
      " 1   _id                 137163 non-null  object \n",
      " 2   RN_INDI             137163 non-null  int64  \n",
      " 3   BTH_YYYY            137163 non-null  object \n",
      " 4   DTH_YYYYMM          10269 non-null   float64\n",
      " 5   COD1                8473 non-null    object \n",
      " 6   COD2                998 non-null     object \n",
      " 7   RN_KEY              137163 non-null  int64  \n",
      " 8   RN_INST             137163 non-null  int64  \n",
      " 9   MDCARE_STRT_DT      137163 non-null  int64  \n",
      " 10  FORM_CD             137163 non-null  int64  \n",
      " 11  MCARE_SUBJ_CD       137163 non-null  int64  \n",
      " 12  SICK_SYM1           137163 non-null  object \n",
      " 13  OFIJ_TYPE           134428 non-null  object \n",
      " 14  OPRTN_YN            137163 non-null  int64  \n",
      " 15  MDCARE_DD_CNT       137163 non-null  int64  \n",
      " 16  VSHSP_DD_CNT        137163 non-null  int64  \n",
      " 17  TOT_PRSC_DD_CNT     137163 non-null  int64  \n",
      " 18  MCARE_RSLT_TYPE     133958 non-null  float64\n",
      " 19  EDC_ADD_RT          137163 non-null  float64\n",
      " 20  ED_RC_TOT_AMT       137163 non-null  int64  \n",
      " 21  EDC_SBA             137163 non-null  int64  \n",
      " 22  EDC_INSUR_BRDN_AMT  137163 non-null  int64  \n",
      " 23  STD_YYYY            137163 non-null  int64  \n",
      "dtypes: float64(3), int64(15), object(6)\n",
      "memory usage: 25.1+ MB\n"
     ]
    }
   ],
   "source": [
    "df_JCNBM.info()"
   ]
  },
  {
   "cell_type": "code",
   "execution_count": 38,
   "id": "53ca019d-7445-45e0-bb90-5d7782ea2a9f",
   "metadata": {
    "tags": []
   },
   "outputs": [
    {
     "data": {
      "text/plain": [
       "Index(['Unnamed: 0', '_id', 'RN_INDI', 'BTH_YYYY', 'DTH_YYYYMM', 'COD1',\n",
       "       'COD2', 'RN_KEY', 'RN_INST', 'MDCARE_STRT_DT', 'FORM_CD',\n",
       "       'MCARE_SUBJ_CD', 'SICK_SYM1', 'OFIJ_TYPE', 'OPRTN_YN', 'MDCARE_DD_CNT',\n",
       "       'VSHSP_DD_CNT', 'TOT_PRSC_DD_CNT', 'MCARE_RSLT_TYPE', 'EDC_ADD_RT',\n",
       "       'ED_RC_TOT_AMT', 'EDC_SBA', 'EDC_INSUR_BRDN_AMT', 'STD_YYYY'],\n",
       "      dtype='object')"
      ]
     },
     "execution_count": 38,
     "metadata": {},
     "output_type": "execute_result"
    }
   ],
   "source": [
    "df_JCNBM.columns"
   ]
  },
  {
   "cell_type": "code",
   "execution_count": 39,
   "id": "f81cedd5-b3ad-4a75-9204-9da55e9f7b30",
   "metadata": {
    "tags": []
   },
   "outputs": [
    {
     "data": {
      "text/plain": [
       "J209     8244\n",
       "I10      4629\n",
       "I109     3275\n",
       "F_       3203\n",
       "N_       3177\n",
       "         ... \n",
       "H700        1\n",
       "E058        1\n",
       "M5397       1\n",
       "T18         1\n",
       "P289        1\n",
       "Name: SICK_SYM1, Length: 3414, dtype: int64"
      ]
     },
     "execution_count": 39,
     "metadata": {},
     "output_type": "execute_result"
    }
   ],
   "source": [
    "df_JCNBM = df_JCNBM[['SICK_SYM1','TOT_PRSC_DD_CNT', 'MCARE_RSLT_TYPE', 'EDC_ADD_RT','ED_RC_TOT_AMT', 'EDC_SBA']]\n",
    "df_JCNBM['SICK_SYM1'].value_counts()"
   ]
  },
  {
   "cell_type": "code",
   "execution_count": 40,
   "id": "4a0c5dab-640e-482e-ab99-d24ef5a0acf2",
   "metadata": {
    "tags": []
   },
   "outputs": [],
   "source": [
    "def convertSICK_SYM(sick_sym) : \n",
    "    if len(sick_sym) < 3 :\n",
    "        return None\n",
    "    else : \n",
    "        return sick_sym[:3]"
   ]
  },
  {
   "cell_type": "code",
   "execution_count": 41,
   "id": "025d4e50-4529-4fac-a2d0-7989911e5b0b",
   "metadata": {
    "tags": []
   },
   "outputs": [
    {
     "data": {
      "text/plain": [
       "('J20', None)"
      ]
     },
     "execution_count": 41,
     "metadata": {},
     "output_type": "execute_result"
    }
   ],
   "source": [
    "convertSICK_SYM('J209'), convertSICK_SYM('F_') "
   ]
  },
  {
   "cell_type": "code",
   "execution_count": 42,
   "id": "4779560e-4488-4ae1-9ec6-c200ef241303",
   "metadata": {
    "tags": []
   },
   "outputs": [],
   "source": [
    "df_JCNBM['SICK_SYM2'] = df_JCNBM['SICK_SYM1'].apply(convertSICK_SYM)"
   ]
  },
  {
   "cell_type": "code",
   "execution_count": 43,
   "id": "efd3246e-2f1c-413c-a4a3-5094200c449b",
   "metadata": {
    "tags": []
   },
   "outputs": [
    {
     "data": {
      "text/plain": [
       "J20    8917\n",
       "I10    8427\n",
       "J03    4187\n",
       "M54    3904\n",
       "J06    3460\n",
       "       ... \n",
       "G97       1\n",
       "K01       1\n",
       "S28       1\n",
       "I72       1\n",
       "P28       1\n",
       "Name: SICK_SYM2, Length: 747, dtype: int64"
      ]
     },
     "execution_count": 43,
     "metadata": {},
     "output_type": "execute_result"
    }
   ],
   "source": [
    "df_JCNBM['SICK_SYM2'].value_counts()"
   ]
  },
  {
   "cell_type": "code",
   "execution_count": 44,
   "id": "950e0c7b-d8b5-4cbf-acb8-17f9e175092d",
   "metadata": {
    "tags": []
   },
   "outputs": [
    {
     "data": {
      "text/plain": [
       "SICK_SYM1          0\n",
       "TOT_PRSC_DD_CNT    0\n",
       "MCARE_RSLT_TYPE    0\n",
       "EDC_ADD_RT         0\n",
       "ED_RC_TOT_AMT      0\n",
       "EDC_SBA            0\n",
       "SICK_SYM2          0\n",
       "dtype: int64"
      ]
     },
     "execution_count": 44,
     "metadata": {},
     "output_type": "execute_result"
    }
   ],
   "source": [
    "df_JCNBM = df_JCNBM.dropna()\n",
    "df_JCNBM.isnull().sum()"
   ]
  },
  {
   "cell_type": "code",
   "execution_count": 45,
   "id": "34ef499c-458e-4bf6-91a6-676c4f9cb8e2",
   "metadata": {
    "tags": []
   },
   "outputs": [
    {
     "data": {
      "text/html": [
       "<div>\n",
       "<style scoped>\n",
       "    .dataframe tbody tr th:only-of-type {\n",
       "        vertical-align: middle;\n",
       "    }\n",
       "\n",
       "    .dataframe tbody tr th {\n",
       "        vertical-align: top;\n",
       "    }\n",
       "\n",
       "    .dataframe thead th {\n",
       "        text-align: right;\n",
       "    }\n",
       "</style>\n",
       "<table border=\"1\" class=\"dataframe\">\n",
       "  <thead>\n",
       "    <tr style=\"text-align: right;\">\n",
       "      <th></th>\n",
       "      <th>SICK_SYM1</th>\n",
       "      <th>TOT_PRSC_DD_CNT</th>\n",
       "      <th>MCARE_RSLT_TYPE</th>\n",
       "      <th>EDC_ADD_RT</th>\n",
       "      <th>ED_RC_TOT_AMT</th>\n",
       "      <th>EDC_SBA</th>\n",
       "      <th>SICK_SYM2</th>\n",
       "    </tr>\n",
       "  </thead>\n",
       "  <tbody>\n",
       "    <tr>\n",
       "      <th>0</th>\n",
       "      <td>L028</td>\n",
       "      <td>3</td>\n",
       "      <td>5.0</td>\n",
       "      <td>0.15</td>\n",
       "      <td>10590</td>\n",
       "      <td>3000</td>\n",
       "      <td>L02</td>\n",
       "    </tr>\n",
       "    <tr>\n",
       "      <th>1</th>\n",
       "      <td>J030</td>\n",
       "      <td>2</td>\n",
       "      <td>5.0</td>\n",
       "      <td>0.15</td>\n",
       "      <td>16520</td>\n",
       "      <td>4950</td>\n",
       "      <td>J03</td>\n",
       "    </tr>\n",
       "  </tbody>\n",
       "</table>\n",
       "</div>"
      ],
      "text/plain": [
       "  SICK_SYM1  TOT_PRSC_DD_CNT  MCARE_RSLT_TYPE  EDC_ADD_RT  ED_RC_TOT_AMT  \\\n",
       "0      L028                3              5.0        0.15          10590   \n",
       "1      J030                2              5.0        0.15          16520   \n",
       "\n",
       "   EDC_SBA SICK_SYM2  \n",
       "0     3000       L02  \n",
       "1     4950       J03  "
      ]
     },
     "execution_count": 45,
     "metadata": {},
     "output_type": "execute_result"
    }
   ],
   "source": [
    "df_JCNBM[:2]"
   ]
  },
  {
   "cell_type": "code",
   "execution_count": 46,
   "id": "66c3d8d0-133e-4d83-8abe-2d41c5bcc34d",
   "metadata": {
    "collapsed": true,
    "jupyter": {
     "outputs_hidden": true
    },
    "tags": []
   },
   "outputs": [
    {
     "data": {
      "text/plain": [
       "['J20',\n",
       " 'I10',\n",
       " 'J03',\n",
       " 'M54',\n",
       " 'J06',\n",
       " 'M17',\n",
       " 'J30',\n",
       " 'E11',\n",
       " 'J01',\n",
       " 'J02',\n",
       " 'K29',\n",
       " 'J00',\n",
       " 'L23',\n",
       " 'H10',\n",
       " 'J04',\n",
       " 'J45',\n",
       " 'M51',\n",
       " 'M75',\n",
       " 'B35',\n",
       " 'J32',\n",
       " 'H66',\n",
       " 'N18',\n",
       " 'A09',\n",
       " 'K21',\n",
       " 'M79',\n",
       " 'S33',\n",
       " 'J21',\n",
       " 'J40',\n",
       " 'H04',\n",
       " 'H52',\n",
       " 'M48',\n",
       " 'H65',\n",
       " 'L50',\n",
       " 'M47',\n",
       " 'I11',\n",
       " 'M13',\n",
       " 'M50',\n",
       " 'N30',\n",
       " 'N40',\n",
       " 'J31',\n",
       " 'L02',\n",
       " 'K25',\n",
       " 'H25',\n",
       " 'M25',\n",
       " 'K59',\n",
       " 'E78',\n",
       " 'H60',\n",
       " 'M65',\n",
       " 'S93',\n",
       " 'L30',\n",
       " 'J18',\n",
       " 'H00',\n",
       " 'K52',\n",
       " 'S63',\n",
       " 'S61',\n",
       " 'H16',\n",
       " 'S83',\n",
       " 'K58',\n",
       " 'J34',\n",
       " 'M19',\n",
       " 'I20',\n",
       " 'M77',\n",
       " 'L20',\n",
       " 'S01',\n",
       " 'I84',\n",
       " 'S13',\n",
       " 'I63',\n",
       " 'M81',\n",
       " 'L03',\n",
       " 'E14',\n",
       " 'M72',\n",
       " 'B02',\n",
       " 'L24',\n",
       " 'H81',\n",
       " 'M15',\n",
       " 'S43',\n",
       " 'J22',\n",
       " 'L21',\n",
       " 'J36',\n",
       " 'E03',\n",
       " 'H40',\n",
       " 'R10',\n",
       " 'K27',\n",
       " 'S52',\n",
       " 'H35',\n",
       " 'C22',\n",
       " 'S62',\n",
       " 'E05',\n",
       " 'N34',\n",
       " 'L84',\n",
       " 'L04',\n",
       " 'G44',\n",
       " 'S23',\n",
       " 'J35',\n",
       " 'C16',\n",
       " 'K76',\n",
       " 'K12',\n",
       " 'H11',\n",
       " 'R51',\n",
       " 'M10',\n",
       " 'N41',\n",
       " 'R07',\n",
       " 'B30',\n",
       " 'L25',\n",
       " 'I50',\n",
       " 'A08',\n",
       " 'R42',\n",
       " 'L08',\n",
       " 'N39',\n",
       " 'R50',\n",
       " 'S92',\n",
       " 'B07',\n",
       " 'L40',\n",
       " 'K30',\n",
       " 'K26',\n",
       " 'C90',\n",
       " 'G43',\n",
       " 'E04',\n",
       " 'L29',\n",
       " 'M23',\n",
       " 'H36',\n",
       " 'S82',\n",
       " 'M53',\n",
       " 'G47',\n",
       " 'B00',\n",
       " 'M62',\n",
       " 'S32',\n",
       " 'H93',\n",
       " 'S22',\n",
       " 'H61',\n",
       " 'J41',\n",
       " 'J37',\n",
       " 'H90',\n",
       " 'D50',\n",
       " 'J42',\n",
       " 'N31',\n",
       " 'Z96',\n",
       " 'A04',\n",
       " 'L60',\n",
       " 'T15',\n",
       " 'J15',\n",
       " 'L28',\n",
       " 'J44',\n",
       " 'N20',\n",
       " 'Z94',\n",
       " 'S53',\n",
       " 'J38',\n",
       " 'I69',\n",
       " 'C20',\n",
       " 'T23',\n",
       " 'C19',\n",
       " 'M06',\n",
       " 'H01',\n",
       " 'S80',\n",
       " 'I48',\n",
       " 'L73',\n",
       " 'I67',\n",
       " 'I25',\n",
       " 'L01',\n",
       " 'M43',\n",
       " 'I61',\n",
       " 'S81',\n",
       " 'M24',\n",
       " 'S00',\n",
       " 'S20',\n",
       " 'R31',\n",
       " 'S91',\n",
       " 'T14',\n",
       " 'R04',\n",
       " 'E10',\n",
       " 'S42',\n",
       " 'M76',\n",
       " 'R11',\n",
       " 'G20',\n",
       " 'G54',\n",
       " 'H02',\n",
       " 'S90',\n",
       " 'C18',\n",
       " 'H26',\n",
       " 'I83',\n",
       " 'L63',\n",
       " 'D23',\n",
       " 'K31',\n",
       " 'S60',\n",
       " 'J39',\n",
       " 'E06',\n",
       " 'G57',\n",
       " 'G81',\n",
       " 'S02',\n",
       " 'D47',\n",
       " 'G46',\n",
       " 'J47',\n",
       " 'K73',\n",
       " 'M22',\n",
       " 'C73',\n",
       " 'K63',\n",
       " 'I73',\n",
       " 'R05',\n",
       " 'H68',\n",
       " 'S05',\n",
       " 'E87',\n",
       " 'S50',\n",
       " 'K35',\n",
       " 'G56',\n",
       " 'M05',\n",
       " 'S73',\n",
       " 'H19',\n",
       " 'S46',\n",
       " 'K70',\n",
       " 'K60',\n",
       " 'L72',\n",
       " 'M94',\n",
       " 'M41',\n",
       " 'D64',\n",
       " 'C25',\n",
       " 'B08',\n",
       " 'L91',\n",
       " 'N02',\n",
       " 'C15',\n",
       " 'M67',\n",
       " 'K74',\n",
       " 'I70',\n",
       " 'G45',\n",
       " 'L85',\n",
       " 'T00',\n",
       " 'H73',\n",
       " 'H20',\n",
       " 'H43',\n",
       " 'K80',\n",
       " 'C32',\n",
       " 'J46',\n",
       " 'S66',\n",
       " 'D17',\n",
       " 'S51',\n",
       " 'D34',\n",
       " 'C40',\n",
       " 'D12',\n",
       " 'H91',\n",
       " 'N10',\n",
       " 'G63',\n",
       " 'L51',\n",
       " 'P59',\n",
       " 'R00',\n",
       " 'S06',\n",
       " 'E13',\n",
       " 'S67',\n",
       " 'S72',\n",
       " 'E07',\n",
       " 'T17',\n",
       " 'R60',\n",
       " 'I42',\n",
       " 'D24',\n",
       " 'R06',\n",
       " 'T22',\n",
       " 'K61',\n",
       " 'S70',\n",
       " 'L27',\n",
       " 'M20',\n",
       " 'B36',\n",
       " 'R52',\n",
       " 'T16',\n",
       " 'D21',\n",
       " 'T24',\n",
       " 'D35',\n",
       " 'G50',\n",
       " 'J05',\n",
       " 'G53',\n",
       " 'L13',\n",
       " 'S86',\n",
       " 'L70',\n",
       " 'H34',\n",
       " 'R80',\n",
       " 'H44',\n",
       " 'J43',\n",
       " 'H50',\n",
       " 'I66',\n",
       " 'S30',\n",
       " 'C69',\n",
       " 'I12',\n",
       " 'Z03',\n",
       " 'M70',\n",
       " 'M16',\n",
       " 'M46',\n",
       " 'L42',\n",
       " 'C43',\n",
       " 'K62',\n",
       " 'K11',\n",
       " 'K92',\n",
       " 'I65',\n",
       " 'G30',\n",
       " 'K14',\n",
       " 'B37',\n",
       " 'Z48',\n",
       " 'C67',\n",
       " 'I87',\n",
       " 'T21',\n",
       " 'M12',\n",
       " 'K56',\n",
       " 'E23',\n",
       " 'N13',\n",
       " 'C34',\n",
       " 'R94',\n",
       " 'S03',\n",
       " 'Z71',\n",
       " 'J33',\n",
       " 'S40',\n",
       " 'I49',\n",
       " 'K40',\n",
       " 'T31',\n",
       " 'M60',\n",
       " 'E50',\n",
       " 'A05',\n",
       " 'R12',\n",
       " 'R22',\n",
       " 'T63',\n",
       " 'T78',\n",
       " 'M80',\n",
       " 'R63',\n",
       " 'Z98',\n",
       " 'D69',\n",
       " 'R73',\n",
       " 'E16',\n",
       " 'M45',\n",
       " 'A49',\n",
       " 'K05',\n",
       " 'G58',\n",
       " 'G51',\n",
       " 'H47',\n",
       " 'C65',\n",
       " 'T93',\n",
       " 'M40',\n",
       " 'J84',\n",
       " 'L26',\n",
       " 'K07',\n",
       " 'R81',\n",
       " 'N28',\n",
       " 'M35',\n",
       " 'R30',\n",
       " 'M92',\n",
       " 'T25',\n",
       " 'M00',\n",
       " 'T20',\n",
       " 'H15',\n",
       " 'L53',\n",
       " 'L05',\n",
       " 'C80',\n",
       " 'M42',\n",
       " 'M99',\n",
       " 'K85',\n",
       " 'D18',\n",
       " 'R19',\n",
       " 'S97',\n",
       " 'H92',\n",
       " 'C85',\n",
       " 'T30',\n",
       " 'I15',\n",
       " 'H57',\n",
       " 'C83',\n",
       " 'G62',\n",
       " 'R55',\n",
       " 'B86',\n",
       " 'G96',\n",
       " 'N17',\n",
       " 'H53',\n",
       " 'S54',\n",
       " 'R56',\n",
       " 'G90',\n",
       " 'G25',\n",
       " 'M89',\n",
       " 'R53',\n",
       " 'G93',\n",
       " 'K71',\n",
       " 'D13',\n",
       " 'R62',\n",
       " 'B17',\n",
       " 'B85',\n",
       " 'G55',\n",
       " 'I88',\n",
       " 'E55',\n",
       " 'C64',\n",
       " 'D33',\n",
       " 'H71',\n",
       " 'L22',\n",
       " 'S09',\n",
       " 'R03',\n",
       " 'K75',\n",
       " 'D14',\n",
       " 'K20',\n",
       " 'T81',\n",
       " 'B25',\n",
       " 'H05',\n",
       " 'H31',\n",
       " 'N03',\n",
       " 'M21',\n",
       " 'S96',\n",
       " 'N04',\n",
       " 'R61',\n",
       " 'L98',\n",
       " 'M84',\n",
       " 'L81',\n",
       " 'L71',\n",
       " 'M49',\n",
       " 'H27',\n",
       " 'E86',\n",
       " 'D31',\n",
       " 'N05',\n",
       " 'I31',\n",
       " 'K13',\n",
       " 'B09',\n",
       " 'K57',\n",
       " 'N32',\n",
       " 'Z01',\n",
       " 'R91',\n",
       " 'C44',\n",
       " 'I71',\n",
       " 'M14',\n",
       " 'N21',\n",
       " 'A69',\n",
       " 'H33',\n",
       " 'S41',\n",
       " 'N06',\n",
       " 'M96',\n",
       " 'R25',\n",
       " 'P38',\n",
       " 'G99',\n",
       " 'R92',\n",
       " 'G22',\n",
       " 'L56',\n",
       " 'H62',\n",
       " 'T08',\n",
       " 'Z47',\n",
       " 'M85',\n",
       " 'L74',\n",
       " 'R35',\n",
       " 'Z00',\n",
       " 'T84',\n",
       " 'G03',\n",
       " 'R59',\n",
       " 'I45',\n",
       " 'Z54',\n",
       " 'H72',\n",
       " 'A59',\n",
       " 'K72',\n",
       " 'H18',\n",
       " 'G64',\n",
       " 'R32',\n",
       " 'B33',\n",
       " 'N00',\n",
       " 'T83',\n",
       " 'S71',\n",
       " 'G31',\n",
       " 'I85',\n",
       " 'H49',\n",
       " 'S56',\n",
       " 'C79',\n",
       " 'M86',\n",
       " 'Z13',\n",
       " 'H17',\n",
       " 'S99',\n",
       " 'K86',\n",
       " 'T92',\n",
       " 'L64',\n",
       " 'D48',\n",
       " 'R09',\n",
       " 'S21',\n",
       " 'E22',\n",
       " 'L80',\n",
       " 'T79',\n",
       " 'K81',\n",
       " 'C78',\n",
       " 'L82',\n",
       " 'R01',\n",
       " 'R21',\n",
       " 'Q74',\n",
       " 'G52',\n",
       " 'S69',\n",
       " 'R14',\n",
       " 'H69',\n",
       " 'S76',\n",
       " 'T91',\n",
       " 'B88',\n",
       " 'J98',\n",
       " 'R68',\n",
       " 'T29',\n",
       " 'M18',\n",
       " 'S14',\n",
       " 'J90',\n",
       " 'I95',\n",
       " 'J12',\n",
       " 'G82',\n",
       " 'T18',\n",
       " 'S64',\n",
       " 'R23',\n",
       " 'A87',\n",
       " 'Z52',\n",
       " 'S31',\n",
       " 'L90',\n",
       " 'K82',\n",
       " 'L55',\n",
       " 'J69',\n",
       " 'K77',\n",
       " 'T13',\n",
       " 'M71',\n",
       " 'M11',\n",
       " 'B18',\n",
       " 'S68',\n",
       " 'I78',\n",
       " 'R20',\n",
       " 'B34',\n",
       " 'E24',\n",
       " 'S34',\n",
       " 'Z93',\n",
       " 'G95',\n",
       " 'D10',\n",
       " 'T09',\n",
       " 'S07',\n",
       " 'P83',\n",
       " 'Z97',\n",
       " 'K37',\n",
       " 'I60',\n",
       " 'R49',\n",
       " 'D44',\n",
       " 'I51',\n",
       " 'T60',\n",
       " 'L43',\n",
       " 'I35',\n",
       " 'J93',\n",
       " 'I80',\n",
       " 'K83',\n",
       " 'D38',\n",
       " 'I21',\n",
       " 'N12',\n",
       " 'P22',\n",
       " 'T26',\n",
       " 'D30',\n",
       " 'K08',\n",
       " 'Z51',\n",
       " 'B19',\n",
       " 'M02',\n",
       " 'P39',\n",
       " 'A41',\n",
       " 'M83',\n",
       " 'S27',\n",
       " 'R39',\n",
       " 'H13',\n",
       " 'R57',\n",
       " 'T19',\n",
       " 'Z12',\n",
       " 'R43',\n",
       " 'E66',\n",
       " 'K50',\n",
       " 'I47',\n",
       " 'L65',\n",
       " 'M61',\n",
       " 'O47',\n",
       " 'H83',\n",
       " 'R15',\n",
       " 'Z04',\n",
       " 'D16',\n",
       " 'T11',\n",
       " 'L89',\n",
       " 'C95',\n",
       " 'J16',\n",
       " 'D22',\n",
       " 'N11',\n",
       " 'T67',\n",
       " 'S36',\n",
       " 'G13',\n",
       " 'S12',\n",
       " 'G70',\n",
       " 'D36',\n",
       " 'I64',\n",
       " 'G04',\n",
       " 'R93',\n",
       " 'K51',\n",
       " 'M93',\n",
       " 'L52',\n",
       " 'T33',\n",
       " 'H82',\n",
       " 'H74',\n",
       " 'Z22',\n",
       " 'S57',\n",
       " 'K04',\n",
       " 'R69',\n",
       " 'R79',\n",
       " 'I89',\n",
       " 'P36',\n",
       " 'Z43',\n",
       " 'T69',\n",
       " 'L44',\n",
       " 'I37',\n",
       " 'L94',\n",
       " 'L75',\n",
       " 'D73',\n",
       " 'R33',\n",
       " 'H30',\n",
       " 'K43',\n",
       " 'H95',\n",
       " 'K36',\n",
       " 'L41',\n",
       " 'E27',\n",
       " 'R26',\n",
       " 'R82',\n",
       " 'R74',\n",
       " 'T35',\n",
       " 'T42',\n",
       " 'R87',\n",
       " 'H54',\n",
       " 'S84',\n",
       " 'Q66',\n",
       " 'E83',\n",
       " 'B43',\n",
       " 'T98',\n",
       " 'Q82',\n",
       " 'C24',\n",
       " 'N08',\n",
       " 'P92',\n",
       " 'G91',\n",
       " 'Z24',\n",
       " 'J81',\n",
       " 'K28',\n",
       " 'S39',\n",
       " 'A06',\n",
       " 'R89',\n",
       " 'S11',\n",
       " 'I24',\n",
       " 'D11',\n",
       " 'H28',\n",
       " 'J17',\n",
       " 'I13',\n",
       " 'J85',\n",
       " 'S87',\n",
       " 'M07',\n",
       " 'D41',\n",
       " 'N19',\n",
       " 'D75',\n",
       " 'R36',\n",
       " 'M87',\n",
       " 'J94',\n",
       " 'I62',\n",
       " 'E88',\n",
       " 'I72',\n",
       " 'R17',\n",
       " 'N42',\n",
       " 'P07',\n",
       " 'P24',\n",
       " 'T65',\n",
       " 'E73',\n",
       " 'Q65',\n",
       " 'E34',\n",
       " 'P23',\n",
       " 'Q80',\n",
       " 'M73',\n",
       " 'I46',\n",
       " 'K22',\n",
       " 'Z63',\n",
       " 'I22',\n",
       " 'N23',\n",
       " 'S58',\n",
       " 'D51',\n",
       " 'N29',\n",
       " 'G83',\n",
       " 'Z45',\n",
       " 'M95',\n",
       " 'R13',\n",
       " 'B69',\n",
       " 'D01',\n",
       " 'L66',\n",
       " 'A75',\n",
       " 'B98',\n",
       " 'H80',\n",
       " 'Q77',\n",
       " 'M32',\n",
       " 'D62',\n",
       " 'D04',\n",
       " 'Z25',\n",
       " 'B27',\n",
       " 'Z80',\n",
       " 'L59',\n",
       " 'Q68',\n",
       " 'O34',\n",
       " 'C91',\n",
       " 'J92',\n",
       " 'C08',\n",
       " 'K10',\n",
       " 'L95',\n",
       " 'E80',\n",
       " 'Z29',\n",
       " 'M30',\n",
       " 'T88',\n",
       " 'I99',\n",
       " 'S04',\n",
       " 'H46',\n",
       " 'S17',\n",
       " 'Z08',\n",
       " 'L11',\n",
       " 'C66',\n",
       " 'T04',\n",
       " 'Z90',\n",
       " 'D15',\n",
       " 'K01',\n",
       " 'H21',\n",
       " 'E61',\n",
       " 'D40',\n",
       " 'K65',\n",
       " 'I74',\n",
       " 'K02',\n",
       " 'I79',\n",
       " 'R29',\n",
       " 'A48',\n",
       " 'T75',\n",
       " 'G97',\n",
       " 'S89',\n",
       " 'S28',\n",
       " 'I34',\n",
       " 'H70',\n",
       " 'H51',\n",
       " 'R86',\n",
       " 'C71',\n",
       " 'L92',\n",
       " 'S29',\n",
       " 'D72',\n",
       " 'K38',\n",
       " 'G24',\n",
       " 'G26',\n",
       " 'J70',\n",
       " 'S49',\n",
       " 'P28']"
      ]
     },
     "execution_count": 46,
     "metadata": {},
     "output_type": "execute_result"
    }
   ],
   "source": [
    "target_list = df_JCNBM['SICK_SYM2'].value_counts().index.to_list()\n",
    "target_list"
   ]
  },
  {
   "cell_type": "code",
   "execution_count": 47,
   "id": "de22fe9c-4574-46ba-a0f2-543b04f78a26",
   "metadata": {
    "tags": []
   },
   "outputs": [
    {
     "data": {
      "text/plain": [
       "(40, 2)"
      ]
     },
     "execution_count": 47,
     "metadata": {},
     "output_type": "execute_result"
    }
   ],
   "source": [
    "target_list.index('L02'), target_list.index('J03')"
   ]
  },
  {
   "cell_type": "code",
   "execution_count": 48,
   "id": "230e57d2-b2b5-4ae9-b09d-94988c6b63f6",
   "metadata": {
    "tags": []
   },
   "outputs": [],
   "source": [
    "def invertNumber(value) : \n",
    "    invert_num = target_list.index(value)\n",
    "    return invert_num"
   ]
  },
  {
   "cell_type": "code",
   "execution_count": 49,
   "id": "7336b020-d7d3-47d6-bda5-6779b50f7f60",
   "metadata": {
    "tags": []
   },
   "outputs": [
    {
     "data": {
      "text/html": [
       "<div>\n",
       "<style scoped>\n",
       "    .dataframe tbody tr th:only-of-type {\n",
       "        vertical-align: middle;\n",
       "    }\n",
       "\n",
       "    .dataframe tbody tr th {\n",
       "        vertical-align: top;\n",
       "    }\n",
       "\n",
       "    .dataframe thead th {\n",
       "        text-align: right;\n",
       "    }\n",
       "</style>\n",
       "<table border=\"1\" class=\"dataframe\">\n",
       "  <thead>\n",
       "    <tr style=\"text-align: right;\">\n",
       "      <th></th>\n",
       "      <th>SICK_SYM1</th>\n",
       "      <th>TOT_PRSC_DD_CNT</th>\n",
       "      <th>MCARE_RSLT_TYPE</th>\n",
       "      <th>EDC_ADD_RT</th>\n",
       "      <th>ED_RC_TOT_AMT</th>\n",
       "      <th>EDC_SBA</th>\n",
       "      <th>SICK_SYM2</th>\n",
       "      <th>SICK_SYM3</th>\n",
       "    </tr>\n",
       "  </thead>\n",
       "  <tbody>\n",
       "    <tr>\n",
       "      <th>0</th>\n",
       "      <td>L028</td>\n",
       "      <td>3</td>\n",
       "      <td>5.0</td>\n",
       "      <td>0.15</td>\n",
       "      <td>10590</td>\n",
       "      <td>3000</td>\n",
       "      <td>L02</td>\n",
       "      <td>40</td>\n",
       "    </tr>\n",
       "    <tr>\n",
       "      <th>1</th>\n",
       "      <td>J030</td>\n",
       "      <td>2</td>\n",
       "      <td>5.0</td>\n",
       "      <td>0.15</td>\n",
       "      <td>16520</td>\n",
       "      <td>4950</td>\n",
       "      <td>J03</td>\n",
       "      <td>2</td>\n",
       "    </tr>\n",
       "    <tr>\n",
       "      <th>2</th>\n",
       "      <td>J030</td>\n",
       "      <td>3</td>\n",
       "      <td>5.0</td>\n",
       "      <td>0.15</td>\n",
       "      <td>27620</td>\n",
       "      <td>9000</td>\n",
       "      <td>J03</td>\n",
       "      <td>2</td>\n",
       "    </tr>\n",
       "  </tbody>\n",
       "</table>\n",
       "</div>"
      ],
      "text/plain": [
       "  SICK_SYM1  TOT_PRSC_DD_CNT  MCARE_RSLT_TYPE  EDC_ADD_RT  ED_RC_TOT_AMT  \\\n",
       "0      L028                3              5.0        0.15          10590   \n",
       "1      J030                2              5.0        0.15          16520   \n",
       "2      J030                3              5.0        0.15          27620   \n",
       "\n",
       "   EDC_SBA SICK_SYM2  SICK_SYM3  \n",
       "0     3000       L02         40  \n",
       "1     4950       J03          2  \n",
       "2     9000       J03          2  "
      ]
     },
     "execution_count": 49,
     "metadata": {},
     "output_type": "execute_result"
    }
   ],
   "source": [
    "df_JCNBM['SICK_SYM3'] = df_JCNBM['SICK_SYM2'].apply(invertNumber)\n",
    "df_JCNBM[:3]"
   ]
  },
  {
   "cell_type": "code",
   "execution_count": 64,
   "id": "3cd2d05f-b85b-4709-b879-0c1cf92f8c5d",
   "metadata": {
    "tags": []
   },
   "outputs": [],
   "source": [
    "# value_counts가 1인것 제거\n",
    "value_counts = df_JCNBM['SICK_SYM3'].value_counts()\n",
    "to_drop = value_counts[value_counts < 3000].index\n",
    "df_JCNBM = df_JCNBM[~df_JCNBM['SICK_SYM3'].isin(to_drop)]"
   ]
  },
  {
   "cell_type": "code",
   "execution_count": 65,
   "id": "fbef8e8f-a836-4fdd-b392-2c89e10d7707",
   "metadata": {
    "tags": []
   },
   "outputs": [
    {
     "data": {
      "text/plain": [
       "0    8890\n",
       "1    7638\n",
       "2    4168\n",
       "3    3708\n",
       "4    3382\n",
       "5    3170\n",
       "Name: SICK_SYM3, dtype: int64"
      ]
     },
     "execution_count": 65,
     "metadata": {},
     "output_type": "execute_result"
    }
   ],
   "source": [
    "df_JCNBM['SICK_SYM3'].value_counts()"
   ]
  },
  {
   "cell_type": "code",
   "execution_count": 66,
   "id": "0130a541-e91a-48e5-99af-2e2b5c25079d",
   "metadata": {
    "tags": []
   },
   "outputs": [
    {
     "name": "stdout",
     "output_type": "stream",
     "text": [
      "<class 'pandas.core.frame.DataFrame'>\n",
      "Int64Index: 30956 entries, 1 to 137161\n",
      "Data columns (total 8 columns):\n",
      " #   Column           Non-Null Count  Dtype  \n",
      "---  ------           --------------  -----  \n",
      " 0   SICK_SYM1        30956 non-null  object \n",
      " 1   TOT_PRSC_DD_CNT  30956 non-null  int64  \n",
      " 2   MCARE_RSLT_TYPE  30956 non-null  float64\n",
      " 3   EDC_ADD_RT       30956 non-null  float64\n",
      " 4   ED_RC_TOT_AMT    30956 non-null  int64  \n",
      " 5   EDC_SBA          30956 non-null  int64  \n",
      " 6   SICK_SYM2        30956 non-null  object \n",
      " 7   SICK_SYM3        30956 non-null  int64  \n",
      "dtypes: float64(2), int64(4), object(2)\n",
      "memory usage: 2.1+ MB\n"
     ]
    }
   ],
   "source": [
    "df_JCNBM.info()"
   ]
  },
  {
   "cell_type": "code",
   "execution_count": 67,
   "id": "5791f857-59fb-4df6-8ce8-8e2f0affbe88",
   "metadata": {
    "tags": []
   },
   "outputs": [],
   "source": [
    "from sklearn.model_selection import train_test_split\n",
    "target = df_JCNBM['SICK_SYM3']\n",
    "features = df_JCNBM[['TOT_PRSC_DD_CNT', 'MCARE_RSLT_TYPE', 'EDC_ADD_RT','ED_RC_TOT_AMT', 'EDC_SBA']]"
   ]
  },
  {
   "cell_type": "code",
   "execution_count": 68,
   "id": "b0396a4c-4fa0-44a5-9dfd-f6969667dcf8",
   "metadata": {
    "tags": []
   },
   "outputs": [
    {
     "data": {
      "text/plain": [
       "((23217, 5), (7739, 5), (23217,), (7739,))"
      ]
     },
     "execution_count": 68,
     "metadata": {},
     "output_type": "execute_result"
    }
   ],
   "source": [
    "features_train, features_test, target_train, target_test = train_test_split(features, target, random_state=113) # 데이터 7:3으로 쪼개기\n",
    "features_train.shape,  features_test.shape,target_train.shape, target_test.shape"
   ]
  },
  {
   "cell_type": "code",
   "execution_count": 69,
   "id": "08ca377b-98f3-48dc-b51a-7f16504c2519",
   "metadata": {
    "tags": []
   },
   "outputs": [
    {
     "data": {
      "text/html": [
       "<style>#sk-container-id-3 {color: black;background-color: white;}#sk-container-id-3 pre{padding: 0;}#sk-container-id-3 div.sk-toggleable {background-color: white;}#sk-container-id-3 label.sk-toggleable__label {cursor: pointer;display: block;width: 100%;margin-bottom: 0;padding: 0.3em;box-sizing: border-box;text-align: center;}#sk-container-id-3 label.sk-toggleable__label-arrow:before {content: \"▸\";float: left;margin-right: 0.25em;color: #696969;}#sk-container-id-3 label.sk-toggleable__label-arrow:hover:before {color: black;}#sk-container-id-3 div.sk-estimator:hover label.sk-toggleable__label-arrow:before {color: black;}#sk-container-id-3 div.sk-toggleable__content {max-height: 0;max-width: 0;overflow: hidden;text-align: left;background-color: #f0f8ff;}#sk-container-id-3 div.sk-toggleable__content pre {margin: 0.2em;color: black;border-radius: 0.25em;background-color: #f0f8ff;}#sk-container-id-3 input.sk-toggleable__control:checked~div.sk-toggleable__content {max-height: 200px;max-width: 100%;overflow: auto;}#sk-container-id-3 input.sk-toggleable__control:checked~label.sk-toggleable__label-arrow:before {content: \"▾\";}#sk-container-id-3 div.sk-estimator input.sk-toggleable__control:checked~label.sk-toggleable__label {background-color: #d4ebff;}#sk-container-id-3 div.sk-label input.sk-toggleable__control:checked~label.sk-toggleable__label {background-color: #d4ebff;}#sk-container-id-3 input.sk-hidden--visually {border: 0;clip: rect(1px 1px 1px 1px);clip: rect(1px, 1px, 1px, 1px);height: 1px;margin: -1px;overflow: hidden;padding: 0;position: absolute;width: 1px;}#sk-container-id-3 div.sk-estimator {font-family: monospace;background-color: #f0f8ff;border: 1px dotted black;border-radius: 0.25em;box-sizing: border-box;margin-bottom: 0.5em;}#sk-container-id-3 div.sk-estimator:hover {background-color: #d4ebff;}#sk-container-id-3 div.sk-parallel-item::after {content: \"\";width: 100%;border-bottom: 1px solid gray;flex-grow: 1;}#sk-container-id-3 div.sk-label:hover label.sk-toggleable__label {background-color: #d4ebff;}#sk-container-id-3 div.sk-serial::before {content: \"\";position: absolute;border-left: 1px solid gray;box-sizing: border-box;top: 0;bottom: 0;left: 50%;z-index: 0;}#sk-container-id-3 div.sk-serial {display: flex;flex-direction: column;align-items: center;background-color: white;padding-right: 0.2em;padding-left: 0.2em;position: relative;}#sk-container-id-3 div.sk-item {position: relative;z-index: 1;}#sk-container-id-3 div.sk-parallel {display: flex;align-items: stretch;justify-content: center;background-color: white;position: relative;}#sk-container-id-3 div.sk-item::before, #sk-container-id-3 div.sk-parallel-item::before {content: \"\";position: absolute;border-left: 1px solid gray;box-sizing: border-box;top: 0;bottom: 0;left: 50%;z-index: -1;}#sk-container-id-3 div.sk-parallel-item {display: flex;flex-direction: column;z-index: 1;position: relative;background-color: white;}#sk-container-id-3 div.sk-parallel-item:first-child::after {align-self: flex-end;width: 50%;}#sk-container-id-3 div.sk-parallel-item:last-child::after {align-self: flex-start;width: 50%;}#sk-container-id-3 div.sk-parallel-item:only-child::after {width: 0;}#sk-container-id-3 div.sk-dashed-wrapped {border: 1px dashed gray;margin: 0 0.4em 0.5em 0.4em;box-sizing: border-box;padding-bottom: 0.4em;background-color: white;}#sk-container-id-3 div.sk-label label {font-family: monospace;font-weight: bold;display: inline-block;line-height: 1.2em;}#sk-container-id-3 div.sk-label-container {text-align: center;}#sk-container-id-3 div.sk-container {/* jupyter's `normalize.less` sets `[hidden] { display: none; }` but bootstrap.min.css set `[hidden] { display: none !important; }` so we also need the `!important` here to be able to override the default hidden behavior on the sphinx rendered scikit-learn.org. See: https://github.com/scikit-learn/scikit-learn/issues/21755 */display: inline-block !important;position: relative;}#sk-container-id-3 div.sk-text-repr-fallback {display: none;}</style><div id=\"sk-container-id-3\" class=\"sk-top-container\"><div class=\"sk-text-repr-fallback\"><pre>DecisionTreeClassifier()</pre><b>In a Jupyter environment, please rerun this cell to show the HTML representation or trust the notebook. <br />On GitHub, the HTML representation is unable to render, please try loading this page with nbviewer.org.</b></div><div class=\"sk-container\" hidden><div class=\"sk-item\"><div class=\"sk-estimator sk-toggleable\"><input class=\"sk-toggleable__control sk-hidden--visually\" id=\"sk-estimator-id-3\" type=\"checkbox\" checked><label for=\"sk-estimator-id-3\" class=\"sk-toggleable__label sk-toggleable__label-arrow\">DecisionTreeClassifier</label><div class=\"sk-toggleable__content\"><pre>DecisionTreeClassifier()</pre></div></div></div></div></div>"
      ],
      "text/plain": [
       "DecisionTreeClassifier()"
      ]
     },
     "execution_count": 69,
     "metadata": {},
     "output_type": "execute_result"
    }
   ],
   "source": [
    "from sklearn.tree import DecisionTreeClassifier\n",
    "model = DecisionTreeClassifier()\n",
    "model.fit(features_train, target_train)"
   ]
  },
  {
   "cell_type": "code",
   "execution_count": 70,
   "id": "847c4ef7-c9e4-44cb-a859-0a310488e8f0",
   "metadata": {
    "tags": []
   },
   "outputs": [
    {
     "data": {
      "text/plain": [
       "(23217,)"
      ]
     },
     "execution_count": 70,
     "metadata": {},
     "output_type": "execute_result"
    }
   ],
   "source": [
    "target_train_predict = model.predict(features_train)\n",
    "target_train_predict.shape # target_train.shape 동일"
   ]
  },
  {
   "cell_type": "code",
   "execution_count": 71,
   "id": "c671f141-a05c-4832-8704-268a3915e5a9",
   "metadata": {
    "tags": []
   },
   "outputs": [
    {
     "data": {
      "text/plain": [
       "(7739,)"
      ]
     },
     "execution_count": 71,
     "metadata": {},
     "output_type": "execute_result"
    }
   ],
   "source": [
    "target_test_predict = model.predict(features_test)\n",
    "target_test_predict.shape # target_test.shape 동일"
   ]
  },
  {
   "cell_type": "code",
   "execution_count": 72,
   "id": "1f647da8-a174-436b-a1ec-3fad73f2e26f",
   "metadata": {
    "tags": []
   },
   "outputs": [],
   "source": [
    "from sklearn.metrics import accuracy_score # 정확도"
   ]
  },
  {
   "cell_type": "code",
   "execution_count": 73,
   "id": "ee19cc32-1b47-40ff-ab62-6e53900f2e23",
   "metadata": {
    "tags": []
   },
   "outputs": [
    {
     "data": {
      "text/plain": [
       "0.8428737562992634"
      ]
     },
     "execution_count": 73,
     "metadata": {},
     "output_type": "execute_result"
    }
   ],
   "source": [
    "accuracy_score(target_train,target_train_predict) # 교내 시험\n"
   ]
  },
  {
   "cell_type": "code",
   "execution_count": 74,
   "id": "135eae41-d72c-4337-ac50-b063a2dd26b4",
   "metadata": {
    "tags": []
   },
   "outputs": [
    {
     "data": {
      "text/plain": [
       "0.6009820390231296"
      ]
     },
     "execution_count": 74,
     "metadata": {},
     "output_type": "execute_result"
    }
   ],
   "source": [
    "accuracy_score(target_test, target_test_predict)"
   ]
  },
  {
   "cell_type": "code",
   "execution_count": 75,
   "id": "1effaa60-8764-4f46-bf4a-4203d4e0b908",
   "metadata": {
    "tags": []
   },
   "outputs": [],
   "source": [
    "from sklearn.metrics import confusion_matrix, precision_score, recall_score, f1_score, classification_report"
   ]
  },
  {
   "cell_type": "code",
   "execution_count": 76,
   "id": "c0462daf-e865-4302-b1b5-39b4c9192ecf",
   "metadata": {
    "tags": []
   },
   "outputs": [
    {
     "data": {
      "text/plain": [
       "array([[6381,   20,  193,   28,  107,   11],\n",
       "       [  67, 5669,    1,   16,    1,   18],\n",
       "       [1142,   13, 1826,   18,   72,    7],\n",
       "       [ 150,   44,   33, 2427,    8,  100],\n",
       "       [ 985,   16,  210,   39, 1255,    6],\n",
       "       [  69,   78,   15,  173,    8, 2011]], dtype=int64)"
      ]
     },
     "execution_count": 76,
     "metadata": {},
     "output_type": "execute_result"
    }
   ],
   "source": [
    "confusion_matrix(target_train, target_train_predict)\n"
   ]
  },
  {
   "cell_type": "code",
   "execution_count": 77,
   "id": "7e4a2cb5-f859-4910-b7a4-0b4487b7781f",
   "metadata": {
    "tags": []
   },
   "outputs": [
    {
     "data": {
      "text/plain": [
       "0.8428737562992634"
      ]
     },
     "execution_count": 77,
     "metadata": {},
     "output_type": "execute_result"
    }
   ],
   "source": [
    "precision_score(target_train, target_train_predict,average='micro')\n"
   ]
  },
  {
   "cell_type": "code",
   "execution_count": 78,
   "id": "a976f360-9bbe-4244-a5a9-c7c6f4c6dbe4",
   "metadata": {
    "tags": []
   },
   "outputs": [
    {
     "data": {
      "text/plain": [
       "0.8428737562992634"
      ]
     },
     "execution_count": 78,
     "metadata": {},
     "output_type": "execute_result"
    }
   ],
   "source": [
    "recall_score(target_train, target_train_predict, average='micro')\n"
   ]
  },
  {
   "cell_type": "code",
   "execution_count": 79,
   "id": "daf06563-246d-448f-b579-5cab6dc6a69a",
   "metadata": {
    "tags": []
   },
   "outputs": [
    {
     "data": {
      "text/plain": [
       "0.8428737562992634"
      ]
     },
     "execution_count": 79,
     "metadata": {},
     "output_type": "execute_result"
    }
   ],
   "source": [
    "f1_score(target_train, target_train_predict, average='micro')\n"
   ]
  },
  {
   "cell_type": "code",
   "execution_count": 80,
   "id": "eac1afcc-d856-41cc-9610-3f37d1a78834",
   "metadata": {
    "tags": []
   },
   "outputs": [
    {
     "name": "stdout",
     "output_type": "stream",
     "text": [
      "              precision    recall  f1-score   support\n",
      "\n",
      "           0       0.73      0.95      0.82      6740\n",
      "           1       0.97      0.98      0.98      5772\n",
      "           2       0.80      0.59      0.68      3078\n",
      "           3       0.90      0.88      0.89      2762\n",
      "           4       0.86      0.50      0.63      2511\n",
      "           5       0.93      0.85      0.89      2354\n",
      "\n",
      "    accuracy                           0.84     23217\n",
      "   macro avg       0.87      0.79      0.82     23217\n",
      "weighted avg       0.85      0.84      0.84     23217\n",
      "\n"
     ]
    }
   ],
   "source": [
    "print(classification_report(target_train,target_train_predict))\n"
   ]
  },
  {
   "cell_type": "code",
   "execution_count": 81,
   "id": "c06796f0-a83d-4643-8101-43491a81abbd",
   "metadata": {
    "tags": []
   },
   "outputs": [
    {
     "name": "stdout",
     "output_type": "stream",
     "text": [
      "              precision    recall  f1-score   support\n",
      "\n",
      "           0       0.54      0.71      0.61      2150\n",
      "           1       0.88      0.90      0.89      1866\n",
      "           2       0.40      0.29      0.33      1090\n",
      "           3       0.59      0.61      0.60       946\n",
      "           4       0.30      0.17      0.22       871\n",
      "           5       0.55      0.51      0.53       816\n",
      "\n",
      "    accuracy                           0.60      7739\n",
      "   macro avg       0.54      0.53      0.53      7739\n",
      "weighted avg       0.58      0.60      0.59      7739\n",
      "\n"
     ]
    }
   ],
   "source": [
    "print(classification_report(target_test,target_test_predict))\n"
   ]
  },
  {
   "cell_type": "code",
   "execution_count": null,
   "id": "35daf90b-5fff-40e3-a323-a947ef68036f",
   "metadata": {},
   "outputs": [],
   "source": []
  },
  {
   "cell_type": "code",
   "execution_count": null,
   "id": "fb9aa993-4d9f-4eb6-9fd6-01d1e9fa3437",
   "metadata": {},
   "outputs": [],
   "source": []
  }
 ],
 "metadata": {
  "kernelspec": {
   "display_name": "Python 3 (ipykernel)",
   "language": "python",
   "name": "python3"
  },
  "language_info": {
   "codemirror_mode": {
    "name": "ipython",
    "version": 3
   },
   "file_extension": ".py",
   "mimetype": "text/x-python",
   "name": "python",
   "nbconvert_exporter": "python",
   "pygments_lexer": "ipython3",
   "version": "3.11.3"
  }
 },
 "nbformat": 4,
 "nbformat_minor": 5
}
