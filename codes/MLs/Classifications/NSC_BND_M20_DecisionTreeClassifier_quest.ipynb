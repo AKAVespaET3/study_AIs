{
 "cells": [
  {
   "cell_type": "markdown",
   "id": "ba154ebb-3dba-4245-8f73-1d576eeef192",
   "metadata": {
    "tags": []
   },
   "source": [
    "### Quest\n",
    "- 목표변수:SICK_SYM1, 설명변수 5개 사용\n",
    "- DecisionTreeClassifier 전처리, 학습, 평가\n",
    "- option : SICK_SYM1 항목은 8개만 선택"
   ]
  },
  {
   "cell_type": "code",
   "execution_count": 1,
   "id": "b3c56a0d-13f5-4825-a9c0-f55616f5c9c9",
   "metadata": {
    "tags": []
   },
   "outputs": [],
   "source": [
    "import pandas as pd\n",
    "import re"
   ]
  },
  {
   "cell_type": "code",
   "execution_count": 2,
   "id": "14e204d9-19ad-4307-802c-f221c1725eee",
   "metadata": {
    "tags": []
   },
   "outputs": [
    {
     "name": "stderr",
     "output_type": "stream",
     "text": [
      "C:\\Users\\01-10\\AppData\\Local\\Temp\\ipykernel_12680\\1035179799.py:1: DtypeWarning: Columns (3,5,6) have mixed types. Specify dtype option on import or set low_memory=False.\n",
      "  df_JCNBM = pd.read_csv('../../../datasets/NSC_BND_M20.csv')\n"
     ]
    }
   ],
   "source": [
    "df_JCNBM = pd.read_csv('../../../datasets/NSC_BND_M20.csv')"
   ]
  },
  {
   "cell_type": "code",
   "execution_count": 3,
   "id": "7430657b-b849-4d8c-b95b-b680bb71acea",
   "metadata": {
    "tags": []
   },
   "outputs": [
    {
     "name": "stdout",
     "output_type": "stream",
     "text": [
      "<class 'pandas.core.frame.DataFrame'>\n",
      "RangeIndex: 137163 entries, 0 to 137162\n",
      "Data columns (total 24 columns):\n",
      " #   Column              Non-Null Count   Dtype  \n",
      "---  ------              --------------   -----  \n",
      " 0   Unnamed: 0          137163 non-null  int64  \n",
      " 1   _id                 137163 non-null  object \n",
      " 2   RN_INDI             137163 non-null  int64  \n",
      " 3   BTH_YYYY            137163 non-null  object \n",
      " 4   DTH_YYYYMM          10269 non-null   float64\n",
      " 5   COD1                8473 non-null    object \n",
      " 6   COD2                998 non-null     object \n",
      " 7   RN_KEY              137163 non-null  int64  \n",
      " 8   RN_INST             137163 non-null  int64  \n",
      " 9   MDCARE_STRT_DT      137163 non-null  int64  \n",
      " 10  FORM_CD             137163 non-null  int64  \n",
      " 11  MCARE_SUBJ_CD       137163 non-null  int64  \n",
      " 12  SICK_SYM1           137163 non-null  object \n",
      " 13  OFIJ_TYPE           134428 non-null  object \n",
      " 14  OPRTN_YN            137163 non-null  int64  \n",
      " 15  MDCARE_DD_CNT       137163 non-null  int64  \n",
      " 16  VSHSP_DD_CNT        137163 non-null  int64  \n",
      " 17  TOT_PRSC_DD_CNT     137163 non-null  int64  \n",
      " 18  MCARE_RSLT_TYPE     133958 non-null  float64\n",
      " 19  EDC_ADD_RT          137163 non-null  float64\n",
      " 20  ED_RC_TOT_AMT       137163 non-null  int64  \n",
      " 21  EDC_SBA             137163 non-null  int64  \n",
      " 22  EDC_INSUR_BRDN_AMT  137163 non-null  int64  \n",
      " 23  STD_YYYY            137163 non-null  int64  \n",
      "dtypes: float64(3), int64(15), object(6)\n",
      "memory usage: 25.1+ MB\n"
     ]
    }
   ],
   "source": [
    "df_JCNBM.info()"
   ]
  },
  {
   "cell_type": "code",
   "execution_count": 4,
   "id": "47f3b10c-72b4-470e-b1c2-b0c353caf86b",
   "metadata": {
    "tags": []
   },
   "outputs": [
    {
     "data": {
      "text/plain": [
       "Index(['Unnamed: 0', '_id', 'RN_INDI', 'BTH_YYYY', 'DTH_YYYYMM', 'COD1',\n",
       "       'COD2', 'RN_KEY', 'RN_INST', 'MDCARE_STRT_DT', 'FORM_CD',\n",
       "       'MCARE_SUBJ_CD', 'SICK_SYM1', 'OFIJ_TYPE', 'OPRTN_YN', 'MDCARE_DD_CNT',\n",
       "       'VSHSP_DD_CNT', 'TOT_PRSC_DD_CNT', 'MCARE_RSLT_TYPE', 'EDC_ADD_RT',\n",
       "       'ED_RC_TOT_AMT', 'EDC_SBA', 'EDC_INSUR_BRDN_AMT', 'STD_YYYY'],\n",
       "      dtype='object')"
      ]
     },
     "execution_count": 4,
     "metadata": {},
     "output_type": "execute_result"
    }
   ],
   "source": [
    "df_JCNBM.columns"
   ]
  },
  {
   "cell_type": "code",
   "execution_count": 5,
   "id": "68b789a2-e34d-4fd5-a728-cc10a6b0b277",
   "metadata": {
    "tags": []
   },
   "outputs": [
    {
     "data": {
      "text/plain": [
       "J209     8244\n",
       "I10      4629\n",
       "I109     3275\n",
       "F_       3203\n",
       "N_       3177\n",
       "         ... \n",
       "H700        1\n",
       "E058        1\n",
       "M5397       1\n",
       "T18         1\n",
       "P289        1\n",
       "Name: SICK_SYM1, Length: 3414, dtype: int64"
      ]
     },
     "execution_count": 5,
     "metadata": {},
     "output_type": "execute_result"
    }
   ],
   "source": [
    "df_JCNBM = df_JCNBM[['SICK_SYM1','TOT_PRSC_DD_CNT', 'MCARE_RSLT_TYPE', 'EDC_ADD_RT','ED_RC_TOT_AMT', 'EDC_SBA']]\n",
    "df_JCNBM['SICK_SYM1'].value_counts()"
   ]
  },
  {
   "cell_type": "code",
   "execution_count": 6,
   "id": "5c1482d0-3415-4fab-a418-bf7fe267d293",
   "metadata": {
    "tags": []
   },
   "outputs": [
    {
     "data": {
      "text/plain": [
       "SICK_SYM1             0\n",
       "TOT_PRSC_DD_CNT       0\n",
       "MCARE_RSLT_TYPE    3205\n",
       "EDC_ADD_RT            0\n",
       "ED_RC_TOT_AMT         0\n",
       "EDC_SBA               0\n",
       "dtype: int64"
      ]
     },
     "execution_count": 6,
     "metadata": {},
     "output_type": "execute_result"
    }
   ],
   "source": [
    "df_JCNBM.isnull().sum()"
   ]
  },
  {
   "cell_type": "code",
   "execution_count": 7,
   "id": "b453189e-29ea-47e0-a892-c71857288f25",
   "metadata": {
    "tags": []
   },
   "outputs": [],
   "source": [
    "df_JCNBM = df_JCNBM.dropna()"
   ]
  },
  {
   "cell_type": "code",
   "execution_count": 8,
   "id": "804b18f1-4624-4fdf-8fa9-5eb7e55b0856",
   "metadata": {
    "tags": []
   },
   "outputs": [
    {
     "data": {
      "text/html": [
       "<div>\n",
       "<style scoped>\n",
       "    .dataframe tbody tr th:only-of-type {\n",
       "        vertical-align: middle;\n",
       "    }\n",
       "\n",
       "    .dataframe tbody tr th {\n",
       "        vertical-align: top;\n",
       "    }\n",
       "\n",
       "    .dataframe thead th {\n",
       "        text-align: right;\n",
       "    }\n",
       "</style>\n",
       "<table border=\"1\" class=\"dataframe\">\n",
       "  <thead>\n",
       "    <tr style=\"text-align: right;\">\n",
       "      <th></th>\n",
       "      <th>SICK_SYM1</th>\n",
       "      <th>TOT_PRSC_DD_CNT</th>\n",
       "      <th>MCARE_RSLT_TYPE</th>\n",
       "      <th>EDC_ADD_RT</th>\n",
       "      <th>ED_RC_TOT_AMT</th>\n",
       "      <th>EDC_SBA</th>\n",
       "    </tr>\n",
       "  </thead>\n",
       "  <tbody>\n",
       "    <tr>\n",
       "      <th>0</th>\n",
       "      <td>11028</td>\n",
       "      <td>3</td>\n",
       "      <td>5.0</td>\n",
       "      <td>0.15</td>\n",
       "      <td>10590</td>\n",
       "      <td>3000</td>\n",
       "    </tr>\n",
       "    <tr>\n",
       "      <th>1</th>\n",
       "      <td>9030</td>\n",
       "      <td>2</td>\n",
       "      <td>5.0</td>\n",
       "      <td>0.15</td>\n",
       "      <td>16520</td>\n",
       "      <td>4950</td>\n",
       "    </tr>\n",
       "    <tr>\n",
       "      <th>2</th>\n",
       "      <td>9030</td>\n",
       "      <td>3</td>\n",
       "      <td>5.0</td>\n",
       "      <td>0.15</td>\n",
       "      <td>27620</td>\n",
       "      <td>9000</td>\n",
       "    </tr>\n",
       "    <tr>\n",
       "      <th>3</th>\n",
       "      <td>10291</td>\n",
       "      <td>3</td>\n",
       "      <td>5.0</td>\n",
       "      <td>0.15</td>\n",
       "      <td>12920</td>\n",
       "      <td>3000</td>\n",
       "    </tr>\n",
       "    <tr>\n",
       "      <th>4</th>\n",
       "      <td>12545</td>\n",
       "      <td>0</td>\n",
       "      <td>5.0</td>\n",
       "      <td>0.15</td>\n",
       "      <td>14230</td>\n",
       "      <td>3000</td>\n",
       "    </tr>\n",
       "    <tr>\n",
       "      <th>...</th>\n",
       "      <td>...</td>\n",
       "      <td>...</td>\n",
       "      <td>...</td>\n",
       "      <td>...</td>\n",
       "      <td>...</td>\n",
       "      <td>...</td>\n",
       "    </tr>\n",
       "    <tr>\n",
       "      <th>137158</th>\n",
       "      <td>9209</td>\n",
       "      <td>0</td>\n",
       "      <td>1.0</td>\n",
       "      <td>0.15</td>\n",
       "      <td>11280</td>\n",
       "      <td>2300</td>\n",
       "    </tr>\n",
       "    <tr>\n",
       "      <th>137159</th>\n",
       "      <td>9209</td>\n",
       "      <td>0</td>\n",
       "      <td>1.0</td>\n",
       "      <td>0.15</td>\n",
       "      <td>19640</td>\n",
       "      <td>3700</td>\n",
       "    </tr>\n",
       "    <tr>\n",
       "      <th>137160</th>\n",
       "      <td>9209</td>\n",
       "      <td>0</td>\n",
       "      <td>1.0</td>\n",
       "      <td>0.15</td>\n",
       "      <td>13470</td>\n",
       "      <td>2800</td>\n",
       "    </tr>\n",
       "    <tr>\n",
       "      <th>137161</th>\n",
       "      <td>9209</td>\n",
       "      <td>0</td>\n",
       "      <td>1.0</td>\n",
       "      <td>0.15</td>\n",
       "      <td>13530</td>\n",
       "      <td>2600</td>\n",
       "    </tr>\n",
       "    <tr>\n",
       "      <th>137162</th>\n",
       "      <td>900</td>\n",
       "      <td>0</td>\n",
       "      <td>1.0</td>\n",
       "      <td>0.25</td>\n",
       "      <td>21730</td>\n",
       "      <td>6800</td>\n",
       "    </tr>\n",
       "  </tbody>\n",
       "</table>\n",
       "<p>133958 rows × 6 columns</p>\n",
       "</div>"
      ],
      "text/plain": [
       "       SICK_SYM1  TOT_PRSC_DD_CNT  MCARE_RSLT_TYPE  EDC_ADD_RT  ED_RC_TOT_AMT  \\\n",
       "0          11028                3              5.0        0.15          10590   \n",
       "1           9030                2              5.0        0.15          16520   \n",
       "2           9030                3              5.0        0.15          27620   \n",
       "3          10291                3              5.0        0.15          12920   \n",
       "4          12545                0              5.0        0.15          14230   \n",
       "...          ...              ...              ...         ...            ...   \n",
       "137158      9209                0              1.0        0.15          11280   \n",
       "137159      9209                0              1.0        0.15          19640   \n",
       "137160      9209                0              1.0        0.15          13470   \n",
       "137161      9209                0              1.0        0.15          13530   \n",
       "137162       900                0              1.0        0.25          21730   \n",
       "\n",
       "        EDC_SBA  \n",
       "0          3000  \n",
       "1          4950  \n",
       "2          9000  \n",
       "3          3000  \n",
       "4          3000  \n",
       "...         ...  \n",
       "137158     2300  \n",
       "137159     3700  \n",
       "137160     2800  \n",
       "137161     2600  \n",
       "137162     6800  \n",
       "\n",
       "[133958 rows x 6 columns]"
      ]
     },
     "execution_count": 8,
     "metadata": {},
     "output_type": "execute_result"
    }
   ],
   "source": [
    "def convert_to_numeric(value):\n",
    "    if re.match(r'[A-Z]', value):\n",
    "        return re.sub(r'[A-Z]', lambda x: str(ord(x.group()) - ord('A')), value)\n",
    "    elif '_' in value:\n",
    "        return re.sub('_', '1', value)\n",
    "    else:\n",
    "        return value\n",
    "df_JCNBM['SICK_SYM1'] = df_JCNBM['SICK_SYM1'].apply(convert_to_numeric)\n",
    "df_JCNBM"
   ]
  },
  {
   "cell_type": "code",
   "execution_count": 9,
   "id": "4bd88c2b-e55a-4a0f-8044-c97123dc16bb",
   "metadata": {
    "tags": []
   },
   "outputs": [
    {
     "data": {
      "text/plain": [
       "9209     8221\n",
       "810      4205\n",
       "13_      3161\n",
       "5_       3089\n",
       "8109     2913\n",
       "         ... \n",
       "889         1\n",
       "626         1\n",
       "2799        1\n",
       "10658       1\n",
       "15289       1\n",
       "Name: SICK_SYM1, Length: 3339, dtype: int64"
      ]
     },
     "execution_count": 9,
     "metadata": {},
     "output_type": "execute_result"
    }
   ],
   "source": [
    "df_JCNBM['SICK_SYM1'].value_counts()\n"
   ]
  },
  {
   "cell_type": "code",
   "execution_count": 10,
   "id": "2c38d0ff-9a4f-4414-a990-a9de80d5c841",
   "metadata": {
    "tags": []
   },
   "outputs": [
    {
     "data": {
      "text/plain": [
       "['9209', '810', '13_', '5_', '8109', '9039', '9029', '900']"
      ]
     },
     "execution_count": 10,
     "metadata": {},
     "output_type": "execute_result"
    }
   ],
   "source": [
    "top_8_values = df_JCNBM['SICK_SYM1'].value_counts().head(8).index.tolist()\n",
    "top_8_values"
   ]
  },
  {
   "cell_type": "code",
   "execution_count": 11,
   "id": "d59a1705-8cde-440e-b561-6edeb20059f2",
   "metadata": {
    "tags": []
   },
   "outputs": [
    {
     "data": {
      "text/html": [
       "<div>\n",
       "<style scoped>\n",
       "    .dataframe tbody tr th:only-of-type {\n",
       "        vertical-align: middle;\n",
       "    }\n",
       "\n",
       "    .dataframe tbody tr th {\n",
       "        vertical-align: top;\n",
       "    }\n",
       "\n",
       "    .dataframe thead th {\n",
       "        text-align: right;\n",
       "    }\n",
       "</style>\n",
       "<table border=\"1\" class=\"dataframe\">\n",
       "  <thead>\n",
       "    <tr style=\"text-align: right;\">\n",
       "      <th></th>\n",
       "      <th>SICK_SYM1</th>\n",
       "      <th>TOT_PRSC_DD_CNT</th>\n",
       "      <th>MCARE_RSLT_TYPE</th>\n",
       "      <th>EDC_ADD_RT</th>\n",
       "      <th>ED_RC_TOT_AMT</th>\n",
       "      <th>EDC_SBA</th>\n",
       "    </tr>\n",
       "  </thead>\n",
       "  <tbody>\n",
       "    <tr>\n",
       "      <th>10</th>\n",
       "      <td>13_</td>\n",
       "      <td>0</td>\n",
       "      <td>5.0</td>\n",
       "      <td>0.15</td>\n",
       "      <td>10590</td>\n",
       "      <td>3000</td>\n",
       "    </tr>\n",
       "    <tr>\n",
       "      <th>11</th>\n",
       "      <td>900</td>\n",
       "      <td>3</td>\n",
       "      <td>1.0</td>\n",
       "      <td>0.25</td>\n",
       "      <td>12240</td>\n",
       "      <td>6120</td>\n",
       "    </tr>\n",
       "    <tr>\n",
       "      <th>42</th>\n",
       "      <td>9209</td>\n",
       "      <td>4</td>\n",
       "      <td>1.0</td>\n",
       "      <td>0.15</td>\n",
       "      <td>10740</td>\n",
       "      <td>3000</td>\n",
       "    </tr>\n",
       "    <tr>\n",
       "      <th>55</th>\n",
       "      <td>13_</td>\n",
       "      <td>56</td>\n",
       "      <td>1.0</td>\n",
       "      <td>0.15</td>\n",
       "      <td>8140</td>\n",
       "      <td>2400</td>\n",
       "    </tr>\n",
       "    <tr>\n",
       "      <th>62</th>\n",
       "      <td>13_</td>\n",
       "      <td>30</td>\n",
       "      <td>1.0</td>\n",
       "      <td>0.15</td>\n",
       "      <td>14200</td>\n",
       "      <td>3000</td>\n",
       "    </tr>\n",
       "    <tr>\n",
       "      <th>...</th>\n",
       "      <td>...</td>\n",
       "      <td>...</td>\n",
       "      <td>...</td>\n",
       "      <td>...</td>\n",
       "      <td>...</td>\n",
       "      <td>...</td>\n",
       "    </tr>\n",
       "    <tr>\n",
       "      <th>137158</th>\n",
       "      <td>9209</td>\n",
       "      <td>0</td>\n",
       "      <td>1.0</td>\n",
       "      <td>0.15</td>\n",
       "      <td>11280</td>\n",
       "      <td>2300</td>\n",
       "    </tr>\n",
       "    <tr>\n",
       "      <th>137159</th>\n",
       "      <td>9209</td>\n",
       "      <td>0</td>\n",
       "      <td>1.0</td>\n",
       "      <td>0.15</td>\n",
       "      <td>19640</td>\n",
       "      <td>3700</td>\n",
       "    </tr>\n",
       "    <tr>\n",
       "      <th>137160</th>\n",
       "      <td>9209</td>\n",
       "      <td>0</td>\n",
       "      <td>1.0</td>\n",
       "      <td>0.15</td>\n",
       "      <td>13470</td>\n",
       "      <td>2800</td>\n",
       "    </tr>\n",
       "    <tr>\n",
       "      <th>137161</th>\n",
       "      <td>9209</td>\n",
       "      <td>0</td>\n",
       "      <td>1.0</td>\n",
       "      <td>0.15</td>\n",
       "      <td>13530</td>\n",
       "      <td>2600</td>\n",
       "    </tr>\n",
       "    <tr>\n",
       "      <th>137162</th>\n",
       "      <td>900</td>\n",
       "      <td>0</td>\n",
       "      <td>1.0</td>\n",
       "      <td>0.25</td>\n",
       "      <td>21730</td>\n",
       "      <td>6800</td>\n",
       "    </tr>\n",
       "  </tbody>\n",
       "</table>\n",
       "<p>27494 rows × 6 columns</p>\n",
       "</div>"
      ],
      "text/plain": [
       "       SICK_SYM1  TOT_PRSC_DD_CNT  MCARE_RSLT_TYPE  EDC_ADD_RT  ED_RC_TOT_AMT  \\\n",
       "10           13_                0              5.0        0.15          10590   \n",
       "11           900                3              1.0        0.25          12240   \n",
       "42          9209                4              1.0        0.15          10740   \n",
       "55           13_               56              1.0        0.15           8140   \n",
       "62           13_               30              1.0        0.15          14200   \n",
       "...          ...              ...              ...         ...            ...   \n",
       "137158      9209                0              1.0        0.15          11280   \n",
       "137159      9209                0              1.0        0.15          19640   \n",
       "137160      9209                0              1.0        0.15          13470   \n",
       "137161      9209                0              1.0        0.15          13530   \n",
       "137162       900                0              1.0        0.25          21730   \n",
       "\n",
       "        EDC_SBA  \n",
       "10         3000  \n",
       "11         6120  \n",
       "42         3000  \n",
       "55         2400  \n",
       "62         3000  \n",
       "...         ...  \n",
       "137158     2300  \n",
       "137159     3700  \n",
       "137160     2800  \n",
       "137161     2600  \n",
       "137162     6800  \n",
       "\n",
       "[27494 rows x 6 columns]"
      ]
     },
     "execution_count": 11,
     "metadata": {},
     "output_type": "execute_result"
    }
   ],
   "source": [
    "top_8_indices = df_JCNBM[df_JCNBM['SICK_SYM1'].isin(top_8_values)]\n",
    "top_8_indices"
   ]
  },
  {
   "cell_type": "markdown",
   "id": "1cdddd40-27a1-44a3-9119-991f3a5ddb17",
   "metadata": {
    "tags": []
   },
   "source": [
    "#### 정형화"
   ]
  },
  {
   "cell_type": "code",
   "execution_count": 12,
   "id": "acaf7ef5-f90b-4bc3-a292-103ea07699a7",
   "metadata": {
    "tags": []
   },
   "outputs": [],
   "source": [
    "target_train = df_JCNBM['SICK_SYM1'] # 범주가 여러개인 목표변수 \n",
    "features_train = df_JCNBM.drop(columns=['SICK_SYM1']) # 목표변수 뺀 나머지 설명변수"
   ]
  },
  {
   "cell_type": "code",
   "execution_count": 13,
   "id": "09bc3b4b-85a9-43c0-948f-c92c3cc51491",
   "metadata": {
    "tags": []
   },
   "outputs": [
    {
     "data": {
      "text/plain": [
       "((133958,), (133958, 5))"
      ]
     },
     "execution_count": 13,
     "metadata": {},
     "output_type": "execute_result"
    }
   ],
   "source": [
    "target_train.shape, features_train.shape"
   ]
  },
  {
   "cell_type": "markdown",
   "id": "c99bb6d3-3db6-487b-aebc-3981a390e495",
   "metadata": {},
   "source": [
    "#### learning 알고리즘 = 모델 학습\n",
    "- 다항분류면 Tree 형식으로 진행됨. \n",
    "    - from sklearn.tree import DecisionTreeClassifier\n",
    "    - from sklearn.tree import DecisionTreeRegressor # Regression도 Tree구조로 가능함. "
   ]
  },
  {
   "cell_type": "code",
   "execution_count": 14,
   "id": "fc5dc5b3-e354-4514-9a07-bd1d099d8b26",
   "metadata": {
    "tags": []
   },
   "outputs": [
    {
     "data": {
      "text/html": [
       "<style>#sk-container-id-1 {color: black;background-color: white;}#sk-container-id-1 pre{padding: 0;}#sk-container-id-1 div.sk-toggleable {background-color: white;}#sk-container-id-1 label.sk-toggleable__label {cursor: pointer;display: block;width: 100%;margin-bottom: 0;padding: 0.3em;box-sizing: border-box;text-align: center;}#sk-container-id-1 label.sk-toggleable__label-arrow:before {content: \"▸\";float: left;margin-right: 0.25em;color: #696969;}#sk-container-id-1 label.sk-toggleable__label-arrow:hover:before {color: black;}#sk-container-id-1 div.sk-estimator:hover label.sk-toggleable__label-arrow:before {color: black;}#sk-container-id-1 div.sk-toggleable__content {max-height: 0;max-width: 0;overflow: hidden;text-align: left;background-color: #f0f8ff;}#sk-container-id-1 div.sk-toggleable__content pre {margin: 0.2em;color: black;border-radius: 0.25em;background-color: #f0f8ff;}#sk-container-id-1 input.sk-toggleable__control:checked~div.sk-toggleable__content {max-height: 200px;max-width: 100%;overflow: auto;}#sk-container-id-1 input.sk-toggleable__control:checked~label.sk-toggleable__label-arrow:before {content: \"▾\";}#sk-container-id-1 div.sk-estimator input.sk-toggleable__control:checked~label.sk-toggleable__label {background-color: #d4ebff;}#sk-container-id-1 div.sk-label input.sk-toggleable__control:checked~label.sk-toggleable__label {background-color: #d4ebff;}#sk-container-id-1 input.sk-hidden--visually {border: 0;clip: rect(1px 1px 1px 1px);clip: rect(1px, 1px, 1px, 1px);height: 1px;margin: -1px;overflow: hidden;padding: 0;position: absolute;width: 1px;}#sk-container-id-1 div.sk-estimator {font-family: monospace;background-color: #f0f8ff;border: 1px dotted black;border-radius: 0.25em;box-sizing: border-box;margin-bottom: 0.5em;}#sk-container-id-1 div.sk-estimator:hover {background-color: #d4ebff;}#sk-container-id-1 div.sk-parallel-item::after {content: \"\";width: 100%;border-bottom: 1px solid gray;flex-grow: 1;}#sk-container-id-1 div.sk-label:hover label.sk-toggleable__label {background-color: #d4ebff;}#sk-container-id-1 div.sk-serial::before {content: \"\";position: absolute;border-left: 1px solid gray;box-sizing: border-box;top: 0;bottom: 0;left: 50%;z-index: 0;}#sk-container-id-1 div.sk-serial {display: flex;flex-direction: column;align-items: center;background-color: white;padding-right: 0.2em;padding-left: 0.2em;position: relative;}#sk-container-id-1 div.sk-item {position: relative;z-index: 1;}#sk-container-id-1 div.sk-parallel {display: flex;align-items: stretch;justify-content: center;background-color: white;position: relative;}#sk-container-id-1 div.sk-item::before, #sk-container-id-1 div.sk-parallel-item::before {content: \"\";position: absolute;border-left: 1px solid gray;box-sizing: border-box;top: 0;bottom: 0;left: 50%;z-index: -1;}#sk-container-id-1 div.sk-parallel-item {display: flex;flex-direction: column;z-index: 1;position: relative;background-color: white;}#sk-container-id-1 div.sk-parallel-item:first-child::after {align-self: flex-end;width: 50%;}#sk-container-id-1 div.sk-parallel-item:last-child::after {align-self: flex-start;width: 50%;}#sk-container-id-1 div.sk-parallel-item:only-child::after {width: 0;}#sk-container-id-1 div.sk-dashed-wrapped {border: 1px dashed gray;margin: 0 0.4em 0.5em 0.4em;box-sizing: border-box;padding-bottom: 0.4em;background-color: white;}#sk-container-id-1 div.sk-label label {font-family: monospace;font-weight: bold;display: inline-block;line-height: 1.2em;}#sk-container-id-1 div.sk-label-container {text-align: center;}#sk-container-id-1 div.sk-container {/* jupyter's `normalize.less` sets `[hidden] { display: none; }` but bootstrap.min.css set `[hidden] { display: none !important; }` so we also need the `!important` here to be able to override the default hidden behavior on the sphinx rendered scikit-learn.org. See: https://github.com/scikit-learn/scikit-learn/issues/21755 */display: inline-block !important;position: relative;}#sk-container-id-1 div.sk-text-repr-fallback {display: none;}</style><div id=\"sk-container-id-1\" class=\"sk-top-container\"><div class=\"sk-text-repr-fallback\"><pre>DecisionTreeClassifier()</pre><b>In a Jupyter environment, please rerun this cell to show the HTML representation or trust the notebook. <br />On GitHub, the HTML representation is unable to render, please try loading this page with nbviewer.org.</b></div><div class=\"sk-container\" hidden><div class=\"sk-item\"><div class=\"sk-estimator sk-toggleable\"><input class=\"sk-toggleable__control sk-hidden--visually\" id=\"sk-estimator-id-1\" type=\"checkbox\" checked><label for=\"sk-estimator-id-1\" class=\"sk-toggleable__label sk-toggleable__label-arrow\">DecisionTreeClassifier</label><div class=\"sk-toggleable__content\"><pre>DecisionTreeClassifier()</pre></div></div></div></div></div>"
      ],
      "text/plain": [
       "DecisionTreeClassifier()"
      ]
     },
     "execution_count": 14,
     "metadata": {},
     "output_type": "execute_result"
    }
   ],
   "source": [
    "from sklearn.tree import DecisionTreeClassifier\n",
    "model = DecisionTreeClassifier()\n",
    "model.fit(features_train, target_train)"
   ]
  },
  {
   "cell_type": "code",
   "execution_count": 15,
   "id": "a98fbd19-df3d-49d4-8798-0c00f169bc66",
   "metadata": {
    "tags": []
   },
   "outputs": [],
   "source": [
    "import matplotlib.pyplot as plt\n",
    "from sklearn.tree import plot_tree"
   ]
  },
  {
   "cell_type": "code",
   "execution_count": 16,
   "id": "26378254-1e93-4df7-95ca-e741e26fc246",
   "metadata": {
    "tags": []
   },
   "outputs": [
    {
     "data": {
      "text/plain": [
       "['TOT_PRSC_DD_CNT',\n",
       " 'MCARE_RSLT_TYPE',\n",
       " 'EDC_ADD_RT',\n",
       " 'ED_RC_TOT_AMT',\n",
       " 'EDC_SBA']"
      ]
     },
     "execution_count": 16,
     "metadata": {},
     "output_type": "execute_result"
    }
   ],
   "source": [
    "features_train.columns.to_list()"
   ]
  },
  {
   "cell_type": "code",
   "execution_count": 26,
   "id": "f40d3a6c-76df-4e0f-89c3-0fa1042372d9",
   "metadata": {
    "tags": []
   },
   "outputs": [],
   "source": [
    "%matplotlib tk"
   ]
  },
  {
   "cell_type": "code",
   "execution_count": 27,
   "id": "2806c525-5083-4170-9b6a-8935cfa34a8f",
   "metadata": {
    "tags": []
   },
   "outputs": [],
   "source": [
    "# plot_tree(model, feature_names=features_train.columns.to_list()) ##plot_tree(모델,컬럼,목표변수)\n",
    "plt.figure(figsize=(40,25))\n",
    "plot_tree(model, feature_names=features_train.columns.to_list(), filled=True)\n",
    "plt.show()"
   ]
  },
  {
   "cell_type": "markdown",
   "id": "c5774d12-6cea-4d01-b501-df2706f78c2f",
   "metadata": {},
   "source": [
    "#### 평가\n",
    "- 예측한 값이 얼마가 일치하는지 평가를 한다. "
   ]
  },
  {
   "cell_type": "code",
   "execution_count": 17,
   "id": "dae38cf5-173b-4254-8fac-10f43d52abfc",
   "metadata": {
    "tags": []
   },
   "outputs": [
    {
     "data": {
      "text/plain": [
       "(133958,)"
      ]
     },
     "execution_count": 17,
     "metadata": {},
     "output_type": "execute_result"
    }
   ],
   "source": [
    "target_predict = model.predict(features_train)\n",
    "target_predict.shape"
   ]
  },
  {
   "cell_type": "code",
   "execution_count": 18,
   "id": "94fbc036-52d3-466a-b87f-98ecc29779cd",
   "metadata": {
    "tags": []
   },
   "outputs": [],
   "source": [
    "from sklearn.metrics import accuracy_score"
   ]
  },
  {
   "cell_type": "code",
   "execution_count": 19,
   "id": "f252de12-0718-4775-8305-68664a3a2ee9",
   "metadata": {
    "tags": []
   },
   "outputs": [
    {
     "data": {
      "text/plain": [
       "0.6066528314844951"
      ]
     },
     "execution_count": 19,
     "metadata": {},
     "output_type": "execute_result"
    }
   ],
   "source": [
    "accuracy_score(target_train, target_predict)"
   ]
  },
  {
   "cell_type": "code",
   "execution_count": null,
   "id": "e4020c83-9141-4ea4-8989-059979abcb16",
   "metadata": {},
   "outputs": [],
   "source": []
  }
 ],
 "metadata": {
  "kernelspec": {
   "display_name": "Python 3 (ipykernel)",
   "language": "python",
   "name": "python3"
  },
  "language_info": {
   "codemirror_mode": {
    "name": "ipython",
    "version": 3
   },
   "file_extension": ".py",
   "mimetype": "text/x-python",
   "name": "python",
   "nbconvert_exporter": "python",
   "pygments_lexer": "ipython3",
   "version": "3.11.3"
  }
 },
 "nbformat": 4,
 "nbformat_minor": 5
}
